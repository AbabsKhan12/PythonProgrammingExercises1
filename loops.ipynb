{
 "cells": [
  {
   "cell_type": "markdown",
   "metadata": {},
   "source": [
    "## interation(loops)\n",
    "\n",
    "\n",
    "\n"
   ]
  },
  {
   "cell_type": "markdown",
   "metadata": {},
   "source": [
    "# counting loops\n",
    "For(name of a vairiable, keyword in python) loop = iteam and number of the iteam\n",
    "alsways starts with a 0"
   ]
  },
  {
   "cell_type": "markdown",
   "metadata": {},
   "source": [
    "# conditianal loops\n",
    "stops / start on a condition(or two)\n",
    "WHILE Loops - stops as soon as a condition is met\n",
    "INFINITE LOOPS-VERY BAD!!\n",
    "e.g while true:\n",
    "step value = my diffult the value is 1 and yu can go back words. it can be a integar and a float:"
   ]
  },
  {
   "cell_type": "markdown",
   "metadata": {},
   "source": [
    "# for \n",
    " e.g\n",
    " for counter in range(parameter)"
   ]
  },
  {
   "cell_type": "code",
   "execution_count": null,
   "metadata": {},
   "outputs": [],
   "source": [
    "## example of for. counter = vairiable \n",
    "## range = function\n",
    "for counter in range (100,1,-1): ## this is a backward loop \n",
    "    print(counter, end=\",\")## \"end\" is what you want between every number"
   ]
  },
  {
   "cell_type": "code",
   "execution_count": null,
   "metadata": {},
   "outputs": [],
   "source": [
    "##forword count\n",
    "for counter in range (0,10,1):\n",
    "    print(counter)"
   ]
  },
  {
   "cell_type": "code",
   "execution_count": null,
   "metadata": {},
   "outputs": [],
   "source": [
    "## this gives no OUTPUT\n",
    "##this is a logical error \n",
    "## not a syntax error\n",
    "for i in range (1,100,-1):\n",
    "    print(i,end=\"*\")"
   ]
  },
  {
   "cell_type": "markdown",
   "metadata": {},
   "source": [
    "## while (conditional) loops\n"
   ]
  },
  {
   "cell_type": "code",
   "execution_count": null,
   "metadata": {
    "scrolled": true
   },
   "outputs": [],
   "source": [
    "loopVar = \"x\"\n",
    "while loopVar != \"s\":\n",
    "    loopVar = input(\"do you want to continue? press S to stop \").lower()\n",
    " "
   ]
  },
  {
   "cell_type": "code",
   "execution_count": null,
   "metadata": {},
   "outputs": [],
   "source": [
    "import random  \n",
    "won = False # at the start the game has not been won \n",
    "lives = 5 # you start with 5 lives \n",
    "\n",
    "while not won and lives > 0 :\n",
    "    lives = lives -1 # lose a life on each round \n",
    "    x = random.randint(0,10)\n",
    "    if x ==5 or x==7 or x==2:\n",
    "        won = True \n",
    "        print(\"you have won\")\n",
    "    else:\n",
    "        print(\"you didnt win\", lives,\"lives left\")\n",
    "        \n",
    "# after the loop is finished this code runs\n",
    "if lives == 0:\n",
    "    print(\"sorry\")"
   ]
  },
  {
   "cell_type": "code",
   "execution_count": null,
   "metadata": {},
   "outputs": [],
   "source": [
    "## 1-100 number with stars between it.\n",
    "for counter in range (1,101):\n",
    "    print(counter, end='*')"
   ]
  },
  {
   "cell_type": "code",
   "execution_count": null,
   "metadata": {},
   "outputs": [],
   "source": [
    "for counter in range (10,0,-1):\n",
    "    print(counter)\n",
    "print(\"blast off\")\n",
    "    "
   ]
  },
  {
   "cell_type": "code",
   "execution_count": null,
   "metadata": {},
   "outputs": [],
   "source": [
    "## message backwards\n",
    "message = input(\"name?\")\n",
    "for i in range(len(message)-1,-1,-1):## len = length, this will change any input of the variable to backwards.\n",
    "    print(message[i])\n",
    "                      "
   ]
  },
  {
   "cell_type": "code",
   "execution_count": 3,
   "metadata": {
    "collapsed": true
   },
   "outputs": [
    {
     "name": "stdout",
     "output_type": "stream",
     "text": [
      "7\n",
      "14\n",
      "21\n",
      "28\n",
      "35\n",
      "42\n",
      "49\n",
      "56\n",
      "63\n",
      "70\n",
      "77\n",
      "84\n"
     ]
    }
   ],
   "source": [
    "## 7 timetable\n",
    "for counter in range(1,13,1):\n",
    "    print(counter*7)\n"
   ]
  },
  {
   "cell_type": "code",
   "execution_count": 15,
   "metadata": {},
   "outputs": [
    {
     "name": "stdout",
     "output_type": "stream",
     "text": [
      "1\n",
      "4\n",
      "9\n",
      "16\n",
      "25\n",
      "36\n",
      "49\n",
      "64\n",
      "81\n",
      "100\n",
      "121\n",
      "144\n",
      "169\n",
      "196\n",
      "225\n",
      "256\n",
      "289\n",
      "324\n",
      "361\n",
      "400\n",
      "441\n",
      "484\n",
      "529\n",
      "576\n",
      "625\n",
      "676\n",
      "729\n",
      "784\n",
      "841\n",
      "900\n",
      "961\n",
      "1024\n",
      "1089\n",
      "1156\n",
      "1225\n",
      "1296\n",
      "1369\n",
      "1444\n",
      "1521\n",
      "1600\n",
      "1681\n",
      "1764\n",
      "1849\n",
      "1936\n",
      "2025\n",
      "2116\n",
      "2209\n",
      "2304\n",
      "2401\n",
      "2500\n",
      "2601\n",
      "2704\n",
      "2809\n",
      "2916\n",
      "3025\n",
      "3136\n",
      "3249\n",
      "3364\n",
      "3481\n",
      "3600\n",
      "3721\n",
      "3844\n",
      "3969\n",
      "4096\n",
      "4225\n",
      "4356\n",
      "4489\n",
      "4624\n",
      "4761\n",
      "4900\n",
      "5041\n",
      "5184\n",
      "5329\n",
      "5476\n",
      "5625\n",
      "5776\n",
      "5929\n",
      "6084\n",
      "6241\n",
      "6400\n",
      "6561\n",
      "6724\n",
      "6889\n",
      "7056\n",
      "7225\n",
      "7396\n",
      "7569\n",
      "7744\n",
      "7921\n",
      "8100\n",
      "8281\n",
      "8464\n",
      "8649\n",
      "8836\n",
      "9025\n",
      "9216\n",
      "9409\n",
      "9604\n",
      "9801\n"
     ]
    }
   ],
   "source": [
    "## squaring numbers\n",
    "for counter in range(1,100,1):\n",
    "    print(counter**2)\n",
    "    "
   ]
  },
  {
   "cell_type": "code",
   "execution_count": null,
   "metadata": {},
   "outputs": [],
   "source": []
  }
 ],
 "metadata": {
  "kernelspec": {
   "display_name": "Python 3",
   "language": "python",
   "name": "python3"
  },
  "language_info": {
   "codemirror_mode": {
    "name": "ipython",
    "version": 3
   },
   "file_extension": ".py",
   "mimetype": "text/x-python",
   "name": "python",
   "nbconvert_exporter": "python",
   "pygments_lexer": "ipython3",
   "version": "3.5.2"
  }
 },
 "nbformat": 4,
 "nbformat_minor": 2
}
