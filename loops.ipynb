{
 "cells": [
  {
   "cell_type": "markdown",
   "metadata": {},
   "source": [
    "## interation(loops)\n",
    "\n",
    "\n",
    "\n"
   ]
  },
  {
   "cell_type": "markdown",
   "metadata": {},
   "source": [
    "# counting loops\n",
    "For(name of a vairiable, keyword in python) loop = iteam and number of the iteam\n",
    "alsways starts with a 0"
   ]
  },
  {
   "cell_type": "markdown",
   "metadata": {},
   "source": [
    "# conditianal loops\n",
    "stops / start on a condition(or two)\n",
    "WHILE Loops - stops as soon as a condition is met\n",
    "INFINITE LOOPS-VERY BAD!!\n",
    "e.g while true:"
   ]
  },
  {
   "cell_type": "markdown",
   "metadata": {},
   "source": [
    "# for \n",
    " e.g\n",
    " for counter in range(parameter)"
   ]
  },
  {
   "cell_type": "code",
   "execution_count": 14,
   "metadata": {},
   "outputs": [
    {
     "name": "stdout",
     "output_type": "stream",
     "text": [
      "100,99,98,97,96,95,94,93,92,91,90,89,88,87,86,85,84,83,82,81,80,79,78,77,76,75,74,73,72,71,70,69,68,67,66,65,64,63,62,61,60,59,58,57,56,55,54,53,52,51,50,49,48,47,46,45,44,43,42,41,40,39,38,37,36,35,34,33,32,31,30,29,28,27,26,25,24,23,22,21,20,19,18,17,16,15,14,13,12,11,10,9,8,7,6,5,4,3,2,"
     ]
    }
   ],
   "source": [
    "## example of for. counter = vairiable \n",
    "for counter in range (100,1,-1): ## this is a backward loop \n",
    "    print(counter, end=\",\")## \"end\" is what you want between every number"
   ]
  },
  {
   "cell_type": "code",
   "execution_count": 27,
   "metadata": {},
   "outputs": [
    {
     "name": "stdout",
     "output_type": "stream",
     "text": [
      "0\n",
      "1\n",
      "2\n",
      "3\n",
      "4\n",
      "5\n",
      "6\n",
      "7\n",
      "8\n",
      "9\n"
     ]
    }
   ],
   "source": [
    "##forword count\n",
    "for counter in range (0,10,1):\n",
    "    print(counter)"
   ]
  },
  {
   "cell_type": "code",
   "execution_count": 36,
   "metadata": {},
   "outputs": [],
   "source": [
    "## this gives no OUTPUT\n",
    "##this is a logical error \n",
    "## not a syntax error\n",
    "for i in range (1,100,-1):\n",
    "    print(i,end=\"*\")"
   ]
  },
  {
   "cell_type": "markdown",
   "metadata": {},
   "source": [
    "## while (conditional) loops\n"
   ]
  },
  {
   "cell_type": "code",
   "execution_count": 41,
   "metadata": {},
   "outputs": [
    {
     "name": "stdout",
     "output_type": "stream",
     "text": [
      "do you want to continue? press S to stop s\n"
     ]
    }
   ],
   "source": [
    "loopVar = \"x\"\n",
    "while loopVar != \"s\":\n",
    "    loopVar = input(\"do you want to continue? press S to stop \").lower()\n",
    " "
   ]
  },
  {
   "cell_type": "code",
   "execution_count": 50,
   "metadata": {},
   "outputs": [
    {
     "name": "stdout",
     "output_type": "stream",
     "text": [
      "you didnt win 4 lives left\n",
      "you didnt win 3 lives left\n",
      "you didnt win 2 lives left\n",
      "you didnt win 1 lives left\n",
      "you didnt win 0 lives left\n",
      "sorry\n"
     ]
    }
   ],
   "source": [
    "import random  \n",
    "won = False # at the start the game has not been won \n",
    "lives = 5 # you start with 5 lives \n",
    "\n",
    "while not won and lives > 0 :\n",
    "    lives = lives -1 # lose a life on each round \n",
    "    x = random.randint(0,10)\n",
    "    if x ==5 or x==7 or x==2:\n",
    "        won = True \n",
    "        print(\"you have won\")\n",
    "    else:\n",
    "        print(\"you didnt win\", lives,\"lives left\")\n",
    "        \n",
    "# after the loop is finished this code runs\n",
    "if lives == 0:\n",
    "    print(\"sorry\")"
   ]
  },
  {
   "cell_type": "code",
   "execution_count": null,
   "metadata": {
    "collapsed": true
   },
   "outputs": [],
   "source": []
  }
 ],
 "metadata": {
  "kernelspec": {
   "display_name": "Python 3",
   "language": "python",
   "name": "python3"
  },
  "language_info": {
   "codemirror_mode": {
    "name": "ipython",
    "version": 3
   },
   "file_extension": ".py",
   "mimetype": "text/x-python",
   "name": "python",
   "nbconvert_exporter": "python",
   "pygments_lexer": "ipython3",
   "version": "3.5.2"
  }
 },
 "nbformat": 4,
 "nbformat_minor": 2
}
