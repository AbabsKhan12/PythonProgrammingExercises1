{
 "cells": [
  {
   "cell_type": "markdown",
   "metadata": {},
   "source": [
    "## selection Making decisions"
   ]
  },
  {
   "cell_type": "code",
   "execution_count": null,
   "metadata": {},
   "outputs": [],
   "source": [
    "## IF Statement \n",
    "name = 'fred'\n",
    "age = 12\n",
    "if age > 10:\n",
    "     print('you are too young')\n",
    "else:\n",
    "    print('you are old enough')"
   ]
  },
  {
   "cell_type": "code",
   "execution_count": null,
   "metadata": {},
   "outputs": [],
   "source": [
    "## print has to be one space away from start of line\n",
    "name = 'fred'\n",
    "age = 12\n",
    "if age == 10:\n",
    "     print('you are too young')\n",
    "elif age == 11:\n",
    "    print('you are still too young')\n",
    "elif age == 12:\n",
    "    print('you are exactly old enough')\n",
    "else:\n",
    "    print('what should this message be??')"
   ]
  },
  {
   "cell_type": "code",
   "execution_count": null,
   "metadata": {
    "collapsed": true
   },
   "outputs": [],
   "source": [
    "## my own version\n",
    "idNum = int(input(\"What is your ID number?\"))\n",
    "if idNum < 10:\n",
    "    print('Hello Random person')\n",
    "else:\n",
    "    print('Hello Abbas')\n",
    "    \n"
   ]
  },
  {
   "cell_type": "code",
   "execution_count": null,
   "metadata": {
    "collapsed": true
   },
   "outputs": [],
   "source": []
  },
  {
   "cell_type": "code",
   "execution_count": null,
   "metadata": {},
   "outputs": [],
   "source": [
    "## task 1\n",
    "temp = int(input(\"what is the tempreture outside?\"))\n",
    "if temp >=20:\n",
    "    print('Wear shorts and a T-Shirt')\n",
    "else:\n",
    "    print('wear a coat')"
   ]
  },
  {
   "cell_type": "code",
   "execution_count": null,
   "metadata": {},
   "outputs": [],
   "source": [
    "## task 2\n",
    "## task- Allow entry to a movie if the user is older than 18 or if they are accompanied by an adult\n",
    "\n",
    "\n",
    "age = int(input('how old are you'))\n",
    "if age > 18:\n",
    "    print(\"you can watch the movie\")\n",
    "else:\n",
    "    ageOld = str(input('Are you with an adult'))\n",
    "    ans = 'yes' or 'Yes'\n",
    "    wrngAns = 'no' or 'No'\n",
    "if ageOld == ans :\n",
    "    print(\"you can watch the movie\")\n",
    "else:\n",
    "    print(\"sorry you can not watch the movie\")\n",
    "    "
   ]
  },
  {
   "cell_type": "code",
   "execution_count": 26,
   "metadata": {},
   "outputs": [
    {
     "name": "stdout",
     "output_type": "stream",
     "text": [
      "What is your Gender? m/ff\n",
      "enter\n"
     ]
    }
   ],
   "source": [
    "##task 2 question 2\n",
    "## Allow the user to come to your party if they are a boy and they like pizza\n",
    "gender = str(input(\"What is your Gender? m/f\"))\n",
    "\n",
    "gender =gender.lower()## Changes entered value to lower case\n",
    "if gender == 'm' :\n",
    "    pizza = str(input(\"Do you like pizza? y/n\"))\n",
    "    \n",
    "elif gender == 'f':## they enterd female\n",
    "    print(\"you cant come\")\n",
    "else: #they enteer some other rubbish\n",
    "    print(\"you cant come \")\n",
    "   "
   ]
  }
 ],
 "metadata": {
  "kernelspec": {
   "display_name": "Python 3",
   "language": "python",
   "name": "python3"
  },
  "language_info": {
   "codemirror_mode": {
    "name": "ipython",
    "version": 3
   },
   "file_extension": ".py",
   "mimetype": "text/x-python",
   "name": "python",
   "nbconvert_exporter": "python",
   "pygments_lexer": "ipython3",
   "version": "3.5.2"
  }
 },
 "nbformat": 4,
 "nbformat_minor": 2
}
